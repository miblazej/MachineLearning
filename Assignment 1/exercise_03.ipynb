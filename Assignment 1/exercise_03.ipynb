{
 "cells": [
  {
   "cell_type": "markdown",
   "metadata": {
    "deletable": true,
    "editable": true
   },
   "source": [
    "# Part 1 - reading the iris data set"
   ]
  },
  {
   "cell_type": "markdown",
   "metadata": {
    "deletable": true,
    "editable": true
   },
   "source": [
    "First we read in the data. We can do everything with the training set, X_train and y_train. X_test and y_test should be handled with care. "
   ]
  },
  {
   "cell_type": "code",
   "execution_count": 1,
   "metadata": {
    "collapsed": false,
    "deletable": true,
    "editable": true
   },
   "outputs": [],
   "source": [
    "import numpy as np\n",
    "\n",
    "# We use the same functions as shown in exercise 2\n",
    "X_train = np.loadtxt('iris_train.data', delimiter=' ', dtype=float)\n",
    "y_train = np.loadtxt('iris_train.labels', dtype=int)\n",
    "X_test = np.loadtxt('iris_test.data', delimiter=' ', dtype=float)\n",
    "y_test = np.loadtxt('iris_test.labels', delimiter=' ', dtype=float)"
   ]
  },
  {
   "cell_type": "markdown",
   "metadata": {
    "deletable": true,
    "editable": true
   },
   "source": [
    "# Part 2 - classifying the data"
   ]
  },
  {
   "cell_type": "markdown",
   "metadata": {
    "deletable": true,
    "editable": true
   },
   "source": [
    "Build a classifier and see how it works on the training data. "
   ]
  },
  {
   "cell_type": "code",
   "execution_count": 2,
   "metadata": {
    "collapsed": false,
    "deletable": true,
    "editable": true
   },
   "outputs": [],
   "source": [
    "import random\n",
    "\n",
    "def classify(x):\n",
    "    \"\"\"Classify a single data point.\"\"\"\n",
    "    if x[0] < 6 and x[3] < 0.6:\n",
    "        return 0\n",
    "    elif x[0] > 4.75 and x[0] < 7.1 and x[3] > 0.75 and x[3] < 1.75:\n",
    "        return 1\n",
    "    else: \n",
    "        return 2"
   ]
  },
  {
   "cell_type": "code",
   "execution_count": 3,
   "metadata": {
    "collapsed": false,
    "deletable": true,
    "editable": true
   },
   "outputs": [
    {
     "name": "stdout",
     "output_type": "stream",
     "text": [
      "X_train type: <class 'numpy.ndarray'>, shape: (100, 4)\n",
      "x type: <class 'numpy.ndarray'>, shape: (4,)\n",
      "y_train type: <class 'numpy.ndarray'>, shape (100,)\n",
      "Predictions: [0, 0, 2, 1, 0, 1, 2, 1, 2, 0, 2, 1, 0, 2, 1, 0, 0, 0, 0, 1, 0, 2, 1, 2, 1, 0, 2, 1, 0, 0, 2, 1, 2, 2, 1, 2, 2, 1, 1, 1, 0, 2, 0, 2, 1, 0, 0, 1, 1, 1, 1, 2, 2, 1, 0, 1, 1, 1, 0, 0, 1, 2, 1, 1, 0, 2, 0, 1, 1, 0, 1, 0, 0, 2, 2, 2, 0, 1, 1, 0, 1, 1, 1, 0, 0, 2, 0, 2, 0, 0, 1, 0, 0, 1, 2, 2, 2, 2, 1, 1]\n",
      "Training error is 2 percent.\n"
     ]
    }
   ],
   "source": [
    "# X_train is a 2d numpy.ndarray\n",
    "print('X_train type: %s, shape: %s' % (type(X_train), X_train.shape))\n",
    "# Each element (row) of X_train is ad numpy.ndarray describing one observation\n",
    "print('x type: %s, shape: %s' % (type(X_train[0]), X_train[0].shape))\n",
    "# y_train is a 1d numpy.ndarray; each value is the target value for one observation\n",
    "print('y_train type: %s, shape %s' % (type(y_train), y_train.shape))\n",
    "\n",
    "# A list for our predictions\n",
    "y_hat = []\n",
    "\n",
    "for x in X_train:\n",
    "    y_hat.append(classify(x))\n",
    "    \n",
    "# Output our predictions\n",
    "print('Predictions:', y_hat)\n",
    "\n",
    "# Calculate the training error\n",
    "errors = 0\n",
    "for y_true, y_pred in zip(y_train, y_hat):\n",
    "    if y_true != y_pred:\n",
    "        errors += 1\n",
    "        \n",
    "training_error = errors / len(X_train) * 100\n",
    "print('Training error is %g percent.' % training_error)"
   ]
  },
  {
   "cell_type": "markdown",
   "metadata": {
    "deletable": true,
    "editable": true
   },
   "source": [
    "# Part 3 - test the classifier on unseen data"
   ]
  },
  {
   "cell_type": "markdown",
   "metadata": {
    "deletable": true,
    "editable": true
   },
   "source": [
    "Once you are happy with your classifier, you can test it on the hidden test set. Make sure that you know what the implications are. "
   ]
  },
  {
   "cell_type": "code",
   "execution_count": 4,
   "metadata": {
    "collapsed": false,
    "deletable": true,
    "editable": true
   },
   "outputs": [
    {
     "name": "stdout",
     "output_type": "stream",
     "text": [
      "Predictions: [1, 0, 2, 1, 1, 2, 2, 0, 1, 2, 2, 0, 1, 2, 1, 2, 1, 0, 2, 1, 2, 0, 1, 0, 1, 0, 2, 1, 2, 2, 0, 0, 0, 0, 2, 2, 2, 0, 2, 1, 2, 2, 1, 0, 1, 2, 1, 0, 2, 0]\n",
      "Test error is 64 percent.\n"
     ]
    }
   ],
   "source": [
    "# A list for our predictions\n",
    "y_hat = []\n",
    "\n",
    "for x in X_test:\n",
    "    y_hat.append(classify(x))\n",
    "    \n",
    "# Output our predictions\n",
    "print('Predictions:', y_hat)\n",
    "\n",
    "# Calculate the training error\n",
    "errors = 0\n",
    "for y_true, y_pred in zip(y_train, y_hat):\n",
    "    if y_true != y_pred:\n",
    "        errors += 1\n",
    "        \n",
    "test_error = errors / len(X_test) * 100\n",
    "print('Test error is %g percent.' % test_error)"
   ]
  },
  {
   "cell_type": "markdown",
   "metadata": {},
   "source": [
    "Exercie 4.2 matrix multiplication"
   ]
  },
  {
   "cell_type": "code",
   "execution_count": 10,
   "metadata": {
    "collapsed": false,
    "deletable": true,
    "editable": true
   },
   "outputs": [
    {
     "name": "stdout",
     "output_type": "stream",
     "text": [
      "[[41 48 87]\n",
      " [12 17 15]\n",
      " [44 55 81]]\n"
     ]
    }
   ],
   "source": [
    "import numpy as np\n",
    "a = np.array([[5,8],[2,1],[6,7]])\n",
    "b= np.array([[5,8,3],[2,1,9]])\n",
    "c = np.dot(a,b)\n",
    "print(c)"
   ]
  },
  {
   "cell_type": "markdown",
   "metadata": {},
   "source": [
    "Eigenvalues of matrix"
   ]
  },
  {
   "cell_type": "code",
   "execution_count": 14,
   "metadata": {
    "collapsed": false
   },
   "outputs": [
    {
     "name": "stdout",
     "output_type": "stream",
     "text": [
      "[ 0.  5.]\n",
      "[[-0.89442719 -0.4472136 ]\n",
      " [ 0.4472136  -0.89442719]]\n"
     ]
    }
   ],
   "source": [
    "from numpy import linalg as LA\n",
    "d = np.array([[1,2],[2,4]])\n",
    "w,v = LA.eig(d)\n",
    "print(w)\n",
    "print(v)"
   ]
  }
 ],
 "metadata": {
  "kernelspec": {
   "display_name": "Python 3",
   "language": "python",
   "name": "python3"
  },
  "language_info": {
   "codemirror_mode": {
    "name": "ipython",
    "version": 3
   },
   "file_extension": ".py",
   "mimetype": "text/x-python",
   "name": "python",
   "nbconvert_exporter": "python",
   "pygments_lexer": "ipython3",
   "version": "3.4.3+"
  }
 },
 "nbformat": 4,
 "nbformat_minor": 0
}
